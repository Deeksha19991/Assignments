{
 "cells": [
  {
   "cell_type": "code",
   "execution_count": 1,
   "id": "68788b81-3a38-4def-94ae-c048dfbfc37b",
   "metadata": {},
   "outputs": [],
   "source": [
    "a=\"String\""
   ]
  },
  {
   "cell_type": "code",
   "execution_count": 3,
   "id": "3ec1b376-6f38-4dc1-87e3-85fa5867c022",
   "metadata": {},
   "outputs": [
    {
     "data": {
      "text/plain": [
       "str"
      ]
     },
     "execution_count": 3,
     "metadata": {},
     "output_type": "execute_result"
    }
   ],
   "source": [
    "type(a)"
   ]
  },
  {
   "cell_type": "code",
   "execution_count": 6,
   "id": "38cb169a-0bed-4c50-9394-4c69bd86e9b8",
   "metadata": {},
   "outputs": [],
   "source": [
    "l=[1,2,3,4,\"diksha\",23,254.6]"
   ]
  },
  {
   "cell_type": "code",
   "execution_count": 7,
   "id": "c54bbfa7-3be7-44db-9258-8dda1a8f0961",
   "metadata": {},
   "outputs": [
    {
     "data": {
      "text/plain": [
       "list"
      ]
     },
     "execution_count": 7,
     "metadata": {},
     "output_type": "execute_result"
    }
   ],
   "source": [
    "type(l)"
   ]
  },
  {
   "cell_type": "code",
   "execution_count": 8,
   "id": "651c2fed-fae4-4657-bba5-2df85eb89846",
   "metadata": {},
   "outputs": [],
   "source": [
    "a=24.6"
   ]
  },
  {
   "cell_type": "code",
   "execution_count": 9,
   "id": "8b08609e-3b91-46fa-8746-94f4a43bdcf6",
   "metadata": {},
   "outputs": [
    {
     "data": {
      "text/plain": [
       "float"
      ]
     },
     "execution_count": 9,
     "metadata": {},
     "output_type": "execute_result"
    }
   ],
   "source": [
    "type(a)"
   ]
  },
  {
   "cell_type": "code",
   "execution_count": 10,
   "id": "2aadfe5c-34a3-4835-bde8-9105bc40b738",
   "metadata": {},
   "outputs": [],
   "source": [
    "l=(1,2,3,4,\"diksha\",23,254.6)"
   ]
  },
  {
   "cell_type": "code",
   "execution_count": 11,
   "id": "27970c62-b590-4123-b8c1-bb2f81074d35",
   "metadata": {},
   "outputs": [
    {
     "data": {
      "text/plain": [
       "tuple"
      ]
     },
     "execution_count": 11,
     "metadata": {},
     "output_type": "execute_result"
    }
   ],
   "source": [
    "type(l)"
   ]
  },
  {
   "cell_type": "code",
   "execution_count": 13,
   "id": "3a06b84b-709b-4133-8060-30ceb8552dc5",
   "metadata": {},
   "outputs": [],
   "source": [
    "var1 = ' '"
   ]
  },
  {
   "cell_type": "code",
   "execution_count": 14,
   "id": "d961875d-c6d2-4b32-a5b8-88fe35b47eb2",
   "metadata": {},
   "outputs": [],
   "source": [
    "var2 = '[ DS , ML , Python]'"
   ]
  },
  {
   "cell_type": "code",
   "execution_count": 15,
   "id": "03232f17-b165-44d3-a039-863d859a07fd",
   "metadata": {},
   "outputs": [],
   "source": [
    "var3 = [ 'DS' , 'ML' , 'Python' ]"
   ]
  },
  {
   "cell_type": "code",
   "execution_count": 16,
   "id": "753fa699-1067-449c-b436-70029a480c08",
   "metadata": {},
   "outputs": [],
   "source": [
    "var4 = 1."
   ]
  },
  {
   "cell_type": "code",
   "execution_count": 20,
   "id": "df3f17e3-beb2-4966-b1ec-a25a506edd47",
   "metadata": {},
   "outputs": [
    {
     "data": {
      "text/plain": [
       "str"
      ]
     },
     "execution_count": 20,
     "metadata": {},
     "output_type": "execute_result"
    }
   ],
   "source": [
    "type(var1)"
   ]
  },
  {
   "cell_type": "code",
   "execution_count": 21,
   "id": "871403c2-a0de-4ed5-abe6-76897390aa00",
   "metadata": {},
   "outputs": [
    {
     "data": {
      "text/plain": [
       "str"
      ]
     },
     "execution_count": 21,
     "metadata": {},
     "output_type": "execute_result"
    }
   ],
   "source": [
    "type(var2)"
   ]
  },
  {
   "cell_type": "code",
   "execution_count": 22,
   "id": "3da0f86c-aa0c-4dec-bd4c-0c902af82e30",
   "metadata": {},
   "outputs": [
    {
     "data": {
      "text/plain": [
       "list"
      ]
     },
     "execution_count": 22,
     "metadata": {},
     "output_type": "execute_result"
    }
   ],
   "source": [
    "type(var3)"
   ]
  },
  {
   "cell_type": "code",
   "execution_count": 23,
   "id": "1722a4af-9eff-43cb-9337-7ea42f78a9b1",
   "metadata": {},
   "outputs": [
    {
     "data": {
      "text/plain": [
       "float"
      ]
     },
     "execution_count": 23,
     "metadata": {},
     "output_type": "execute_result"
    }
   ],
   "source": [
    "type(var4)"
   ]
  },
  {
   "cell_type": "code",
   "execution_count": 25,
   "id": "671c899f-7a37-4641-ad9a-1271e8d0dc50",
   "metadata": {},
   "outputs": [
    {
     "data": {
      "text/plain": [
       "2.5"
      ]
     },
     "execution_count": 25,
     "metadata": {},
     "output_type": "execute_result"
    }
   ],
   "source": [
    "5/2"
   ]
  },
  {
   "cell_type": "code",
   "execution_count": 26,
   "id": "77fbfaa1-51a6-43cc-a3d3-7579b41af04b",
   "metadata": {},
   "outputs": [
    {
     "data": {
      "text/plain": [
       "1"
      ]
     },
     "execution_count": 26,
     "metadata": {},
     "output_type": "execute_result"
    }
   ],
   "source": [
    "5%2"
   ]
  },
  {
   "cell_type": "code",
   "execution_count": 28,
   "id": "58bea787-4248-4830-a03b-11bbed55f713",
   "metadata": {},
   "outputs": [
    {
     "data": {
      "text/plain": [
       "2"
      ]
     },
     "execution_count": 28,
     "metadata": {},
     "output_type": "execute_result"
    }
   ],
   "source": [
    "5//2"
   ]
  },
  {
   "cell_type": "code",
   "execution_count": 29,
   "id": "82ed6c44-f57a-42a5-8b21-fb418ad83184",
   "metadata": {},
   "outputs": [
    {
     "data": {
      "text/plain": [
       "25"
      ]
     },
     "execution_count": 29,
     "metadata": {},
     "output_type": "execute_result"
    }
   ],
   "source": [
    "5**2"
   ]
  },
  {
   "cell_type": "code",
   "execution_count": 31,
   "id": "693f5c14-d6bf-4bb1-b5fc-4b14967533fd",
   "metadata": {},
   "outputs": [
    {
     "name": "stdout",
     "output_type": "stream",
     "text": [
      "1\n"
     ]
    }
   ],
   "source": [
    "a=0\n",
    "range(0,10)\n",
    "a+=1\n",
    "print(a)"
   ]
  },
  {
   "cell_type": "code",
   "execution_count": 5,
   "id": "199bd6ea-d5a0-43ce-90c0-ba27941081ee",
   "metadata": {},
   "outputs": [
    {
     "name": "stdout",
     "output_type": "stream",
     "text": [
      "1\n",
      "2\n",
      "3\n",
      "4\n",
      "diksha\n",
      "23\n",
      "254.6\n",
      "1.3\n",
      "90\n",
      "89.99\n"
     ]
    }
   ],
   "source": [
    "l=[1,2,3,4,\"diksha\",23,254.6,1.3,90,89.99]\n",
    "for i in l:\n",
    "    print(i)"
   ]
  },
  {
   "cell_type": "code",
   "execution_count": 21,
   "id": "18d8e1e3-42d1-4088-ab5e-dfe728584d28",
   "metadata": {},
   "outputs": [
    {
     "name": "stdout",
     "output_type": "stream",
     "text": [
      "5\n"
     ]
    }
   ],
   "source": [
    "A= 10;\n",
    "B= 2;\n",
    "r= A % B;\n",
    "s= A // B;\n",
    "while  r == 0 :\n",
    "    print (s)\n",
    "    break "
   ]
  },
  {
   "cell_type": "code",
   "execution_count": 66,
   "id": "d2aae768-e68d-4bf4-a226-26d985474318",
   "metadata": {},
   "outputs": [
    {
     "name": "stdout",
     "output_type": "stream",
     "text": [
      "1 --Numbers not divisible by 3\n",
      "2 --Numbers not divisible by 3\n",
      "3 --Numbers divisible by 3\n",
      "4 --Numbers not divisible by 3\n",
      "5 --Numbers not divisible by 3\n",
      "6 --Numbers divisible by 3\n",
      "7 --Numbers not divisible by 3\n",
      "8 --Numbers not divisible by 3\n",
      "9 --Numbers divisible by 3\n",
      "10 --Numbers not divisible by 3\n",
      "11 --Numbers not divisible by 3\n",
      "12 --Numbers divisible by 3\n",
      "13 --Numbers not divisible by 3\n",
      "14 --Numbers not divisible by 3\n",
      "15 --Numbers divisible by 3\n",
      "16 --Numbers not divisible by 3\n",
      "17 --Numbers not divisible by 3\n",
      "18 --Numbers divisible by 3\n",
      "19 --Numbers not divisible by 3\n",
      "20 --Numbers not divisible by 3\n",
      "21 --Numbers divisible by 3\n",
      "22 --Numbers not divisible by 3\n",
      "23 --Numbers not divisible by 3\n",
      "24 --Numbers divisible by 3\n",
      "25 --Numbers not divisible by 3\n"
     ]
    }
   ],
   "source": [
    "L=[1,2,3,4,5,6,7,8,9,10,11,12,13,14,15,16,17,18,19,20,21,22,23,24,25];\n",
    "for i in L:\n",
    "   if(i%3==0):\n",
    "      print(i ,\"--Numbers divisible by 3\")\n",
    "   else:\n",
    "            print(i ,\"--Numbers not divisible by 3\")"
   ]
  },
  {
   "cell_type": "code",
   "execution_count": 70,
   "id": "34a53829-0656-4655-8c13-5e2105270266",
   "metadata": {},
   "outputs": [
    {
     "name": "stdout",
     "output_type": "stream",
     "text": [
      "[4, 1, 2, 3]\n"
     ]
    }
   ],
   "source": [
    "#Mutable Objects\t\n",
    "#A mutable object can be changed after it is created\t\n",
    "#Examples : List, Set, Dictionary\n",
    "LIST = [0, 1, 2, 3]\n",
    "LIST[0] = 4\n",
    "print(LIST)"
   ]
  },
  {
   "cell_type": "code",
   "execution_count": 71,
   "id": "b8a4ba22-00f0-487e-a99e-631c99a9334c",
   "metadata": {},
   "outputs": [
    {
     "ename": "TypeError",
     "evalue": "'tuple' object does not support item assignment",
     "output_type": "error",
     "traceback": [
      "\u001b[0;31m---------------------------------------------------------------------------\u001b[0m",
      "\u001b[0;31mTypeError\u001b[0m                                 Traceback (most recent call last)",
      "Cell \u001b[0;32mIn[71], line 5\u001b[0m\n\u001b[1;32m      1\u001b[0m \u001b[38;5;66;03m#Immutable Objects\u001b[39;00m\n\u001b[1;32m      2\u001b[0m \u001b[38;5;66;03m#An immutable object cannot be changed after it is created\u001b[39;00m\n\u001b[1;32m      3\u001b[0m \u001b[38;5;66;03m#Exg: tuples, int, float, bool, frozenset.\u001b[39;00m\n\u001b[1;32m      4\u001b[0m TUPLE \u001b[38;5;241m=\u001b[39m (\u001b[38;5;241m0\u001b[39m, \u001b[38;5;241m1\u001b[39m, \u001b[38;5;241m2\u001b[39m, \u001b[38;5;241m3\u001b[39m)\n\u001b[0;32m----> 5\u001b[0m \u001b[43mTUPLE\u001b[49m\u001b[43m[\u001b[49m\u001b[38;5;241;43m0\u001b[39;49m\u001b[43m]\u001b[49m \u001b[38;5;241m=\u001b[39m \u001b[38;5;241m4\u001b[39m\n\u001b[1;32m      6\u001b[0m \u001b[38;5;28mprint\u001b[39m(TUPLE)\n",
      "\u001b[0;31mTypeError\u001b[0m: 'tuple' object does not support item assignment"
     ]
    }
   ],
   "source": [
    "#Immutable Objects\n",
    "#An immutable object cannot be changed after it is created\n",
    "#Exg: tuples, int, float, bool, frozenset.\n",
    "TUPLE = (0, 1, 2, 3)\n",
    "TUPLE[0] = 4\n",
    "print(TUPLE)"
   ]
  },
  {
   "cell_type": "code",
   "execution_count": null,
   "id": "84ec98db-9c7c-4ac4-bf5e-80cd72b5b28a",
   "metadata": {},
   "outputs": [],
   "source": []
  }
 ],
 "metadata": {
  "kernelspec": {
   "display_name": "Python 3 (ipykernel)",
   "language": "python",
   "name": "python3"
  },
  "language_info": {
   "codemirror_mode": {
    "name": "ipython",
    "version": 3
   },
   "file_extension": ".py",
   "mimetype": "text/x-python",
   "name": "python",
   "nbconvert_exporter": "python",
   "pygments_lexer": "ipython3",
   "version": "3.10.8"
  }
 },
 "nbformat": 4,
 "nbformat_minor": 5
}
