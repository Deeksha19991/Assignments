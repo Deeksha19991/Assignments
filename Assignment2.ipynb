{
 "cells": [
  {
   "cell_type": "code",
   "execution_count": 1,
   "id": "a943f91a-cdda-4081-ab0e-b0d149bb4839",
   "metadata": {},
   "outputs": [],
   "source": [
    "#Q1- By using # we can comment in python\n",
    "#Type of comment \n",
    "#Single line\n",
    "#Multi line "
   ]
  },
  {
   "cell_type": "code",
   "execution_count": 3,
   "id": "dfed562a-15ff-482e-adef-0df4a3b838e5",
   "metadata": {},
   "outputs": [
    {
     "name": "stdout",
     "output_type": "stream",
     "text": [
      "10\n"
     ]
    }
   ],
   "source": [
    "#Types of variable in python \n",
    "#Int,Str,Boolean,Float,List,Tuple,Dictinary\n",
    "\n",
    "#Assigning value to a variable\n",
    "a=10\n",
    "print(a)"
   ]
  },
  {
   "cell_type": "code",
   "execution_count": 9,
   "id": "9f1917ba-03b8-4e28-be0c-349005125b67",
   "metadata": {},
   "outputs": [
    {
     "name": "stdout",
     "output_type": "stream",
     "text": [
      "10\n",
      "10\n",
      "<class 'str'>\n",
      "<class 'int'>\n"
     ]
    }
   ],
   "source": [
    "b=10\n",
    "print(b)\n",
    "s=str(b)\n",
    "print(b)\n",
    "print(type(s))\n",
    "print(type(b))"
   ]
  },
  {
   "cell_type": "code",
   "execution_count": 14,
   "id": "a904ee9e-5dc8-4caf-ab3a-e2334f1a68ac",
   "metadata": {},
   "outputs": [
    {
     "name": "stdout",
     "output_type": "stream",
     "text": [
      "10\n",
      "<class 'int'>\n",
      "10.0\n",
      "<class 'float'>\n"
     ]
    }
   ],
   "source": [
    "b=10\n",
    "print(b)\n",
    "print(type(b))\n",
    "\n",
    "c=float(b)\n",
    "print(c)\n",
    "print(type(c))"
   ]
  },
  {
   "cell_type": "code",
   "execution_count": 15,
   "id": "f49a3384-bbfd-4158-ac4c-fcb86c4ea580",
   "metadata": {},
   "outputs": [],
   "source": [
    "#How do you write and execute a Python script from the command line?\n",
    "#Shift+Enter\n",
    "#Ctrl+Enter"
   ]
  },
  {
   "cell_type": "code",
   "execution_count": 24,
   "id": "5879d66e-ba79-4d8c-8cf0-8d05262d8812",
   "metadata": {},
   "outputs": [
    {
     "name": "stdout",
     "output_type": "stream",
     "text": [
      "[2, 3]\n"
     ]
    }
   ],
   "source": [
    "#Given a list my_list = [1, 2, 3, 4, 5], write the code to slice the list and obtain the sub-list [2, 3].\n",
    "my_list = [1, 2, 3, 4, 5]\n",
    "print (my_list[1:3])"
   ]
  },
  {
   "cell_type": "code",
   "execution_count": 38,
   "id": "0b76d1dc-1d73-40ae-b792-e5d356acb046",
   "metadata": {},
   "outputs": [
    {
     "name": "stdout",
     "output_type": "stream",
     "text": [
      "<class 'complex'>\n",
      "5.0\n",
      "3.0\n"
     ]
    }
   ],
   "source": [
    "#Q6. What is a complex number in mathematics, and how is it represented in Python?\n",
    "z = 5+3j\n",
    "print(type(z))\n",
    "print(z.real)\n",
    "print(z.imag)"
   ]
  },
  {
   "cell_type": "code",
   "execution_count": 41,
   "id": "e533f20b-4de0-4d8d-aa08-cab221563681",
   "metadata": {},
   "outputs": [
    {
     "name": "stdout",
     "output_type": "stream",
     "text": [
      "25\n"
     ]
    }
   ],
   "source": [
    "#Q7. What is the correct way to declare a variable named age and assign the value 25 to it?\n",
    "Age=25\n",
    "print(Age)"
   ]
  },
  {
   "cell_type": "code",
   "execution_count": 42,
   "id": "5e361bcf-b7b3-4cde-9c25-76ae1a70e614",
   "metadata": {},
   "outputs": [
    {
     "name": "stdout",
     "output_type": "stream",
     "text": [
      "<class 'float'>\n"
     ]
    }
   ],
   "source": [
    "#Q8. Declare a variable named price and assign the value 9.99 to it. What data type does this variable\n",
    "#belong to?\n",
    "price=9.99\n",
    "print(type(price))"
   ]
  },
  {
   "cell_type": "code",
   "execution_count": 45,
   "id": "6b3786a8-7461-4ad2-b471-632180cca046",
   "metadata": {},
   "outputs": [
    {
     "name": "stdout",
     "output_type": "stream",
     "text": [
      "Deeksha\n"
     ]
    }
   ],
   "source": [
    "#Q9. Create a variable named name and assign your full name to it as a string. How would you print the\n",
    "#value of this variable?\n",
    "Name=\"Deeksha\"\n",
    "print(Name)"
   ]
  },
  {
   "cell_type": "code",
   "execution_count": 47,
   "id": "7bc71c09-c0f3-4443-bf85-de44bd67ed23",
   "metadata": {},
   "outputs": [
    {
     "name": "stdout",
     "output_type": "stream",
     "text": [
      "World\n"
     ]
    }
   ],
   "source": [
    "#Q10. Given the string \"Hello, World!\", extract the substring \"World\".\n",
    "A=\"Hello, World!\"\n",
    "print(A[7:12])"
   ]
  },
  {
   "cell_type": "code",
   "execution_count": 74,
   "id": "fa7338f5-8978-4c66-9ee2-02498a38a12f",
   "metadata": {},
   "outputs": [
    {
     "name": "stdout",
     "output_type": "stream",
     "text": [
      "<class 'bool'>\n"
     ]
    }
   ],
   "source": [
    "#Q11. Create a variable named \"is_student\" and assign it a boolean value indicating whether you are\n",
    "#currently a student or not.\n",
    "is_student=True\n",
    "print(type(is_student))"
   ]
  },
  {
   "cell_type": "code",
   "execution_count": null,
   "id": "ac93c46d-3a17-417b-9d8d-14c3e5975b63",
   "metadata": {},
   "outputs": [],
   "source": []
  }
 ],
 "metadata": {
  "kernelspec": {
   "display_name": "Python 3 (ipykernel)",
   "language": "python",
   "name": "python3"
  },
  "language_info": {
   "codemirror_mode": {
    "name": "ipython",
    "version": 3
   },
   "file_extension": ".py",
   "mimetype": "text/x-python",
   "name": "python",
   "nbconvert_exporter": "python",
   "pygments_lexer": "ipython3",
   "version": "3.10.8"
  }
 },
 "nbformat": 4,
 "nbformat_minor": 5
}
